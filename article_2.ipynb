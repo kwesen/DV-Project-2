{
 "cells": [
  {
   "cell_type": "code",
   "execution_count": 41,
   "id": "f792ffc3-eb9e-4e75-a42f-d3e157555eba",
   "metadata": {},
   "outputs": [],
   "source": [
    "import pandas as pd\n",
    "import numpy as np\n",
    "import seaborn as sns\n",
    "import matplotlib.pyplot as plt\n",
    "import glob\n",
    "import re"
   ]
  },
  {
   "cell_type": "markdown",
   "id": "90a2639a-0c1c-4ff5-ace3-696abced9bf4",
   "metadata": {},
   "source": [
    "###  V: wind speed; \n",
    "### D: wind direction; \n",
    "### rho: air density; \n",
    "### H: humidity; \n",
    "### I: turbulence intensity; \n",
    "### S: vertical wind shear; \n",
    "### Sa: above-hub height wind shear,\n",
    "### Sb: below-hub height wind shear."
   ]
  },
  {
   "cell_type": "code",
   "execution_count": 42,
   "id": "7dfa811c-f7ae-43c3-95c4-8b49aaf81010",
   "metadata": {},
   "outputs": [
    {
     "data": {
      "text/plain": [
       "['Data\\\\Inland Wind Farm Dataset2(WT1).csv',\n",
       " 'Data\\\\Inland Wind Farm Dataset2(WT2).csv',\n",
       " 'Data\\\\Offshore Wind Farm Dataset2(WT3).csv',\n",
       " 'Data\\\\Offshore Wind Farm Dataset2(WT4).csv']"
      ]
     },
     "execution_count": 42,
     "metadata": {},
     "output_type": "execute_result"
    }
   ],
   "source": [
    "csv_files = glob.glob('Data/*csv')\n",
    "csv_files = sorted(csv_files)\n",
    "csv_files"
   ]
  },
  {
   "cell_type": "code",
   "execution_count": 52,
   "id": "e1edd4f5-1dab-484d-8509-3b1bec34d815",
   "metadata": {},
   "outputs": [],
   "source": [
    "frames = []\n",
    " \n",
    "for file in csv_files:\n",
    "    df = pd.read_csv(file)\n",
    "    df['WT'] = int(re.findall(\"\\d+\",file)[-1])\n",
    "    frames.append(df)\n",
    "df_merged = pd.concat(frames, axis=0)\n",
    "df_merged.drop(\"H\", axis = 1, inplace=True) # no idea why this gets added"
   ]
  },
  {
   "cell_type": "code",
   "execution_count": 44,
   "id": "25d9d4de-f20d-4a23-9486-32497bed1b45",
   "metadata": {},
   "outputs": [],
   "source": [
    "# df_merged.to_csv('merged.csv')"
   ]
  },
  {
   "cell_type": "code",
   "execution_count": 45,
   "id": "1cf617f3-bcea-4dfb-b024-2e820287f13f",
   "metadata": {},
   "outputs": [],
   "source": [
    "df_merged['time'] = pd.to_datetime(df_merged['time'])"
   ]
  },
  {
   "cell_type": "code",
   "execution_count": 46,
   "id": "40b48e9b-2c7e-44f9-bc49-6ecd18518335",
   "metadata": {},
   "outputs": [
    {
     "data": {
      "text/plain": [
       "[<matplotlib.lines.Line2D at 0x1db49f5f850>]"
      ]
     },
     "execution_count": 46,
     "metadata": {},
     "output_type": "execute_result"
    },
    {
     "data": {
      "image/png": "[encoded data removed]",
      "text/plain": [
       "<Figure size 640x480 with 1 Axes>"
      ]
     },
     "metadata": {},
     "output_type": "display_data"
    }
   ],
   "source": [
    "# sns.lineplot(data=df_csv_append, x='time', y='V', hue='WT')\n",
    "plt.plot(df_merged.V)"
   ]
  },
  {
   "cell_type": "code",
   "execution_count": 47,
   "metadata": {},
   "outputs": [
    {
     "data": {
      "text/html": [
       "<div>\n",
       "<style scoped>\n",
       "    .dataframe tbody tr th:only-of-type {\n",
       "        vertical-align: middle;\n",
       "    }\n",
       "\n",
       "    .dataframe tbody tr th {\n",
       "        vertical-align: top;\n",
       "    }\n",
       "\n",
       "    .dataframe thead th {\n",
       "        text-align: right;\n",
       "    }\n",
       "</style>\n",
       "<table border=\"1\" class=\"dataframe\">\n",
       "  <thead>\n",
       "    <tr style=\"text-align: right;\">\n",
       "      <th></th>\n",
       "      <th>time</th>\n",
       "      <th>V</th>\n",
       "      <th>Vadj</th>\n",
       "      <th>D</th>\n",
       "      <th>rho</th>\n",
       "      <th>I</th>\n",
       "      <th>S</th>\n",
       "      <th>normPW</th>\n",
       "      <th>WT</th>\n",
       "      <th>H</th>\n",
       "    </tr>\n",
       "  </thead>\n",
       "  <tbody>\n",
       "    <tr>\n",
       "      <th>0</th>\n",
       "      <td>2008-01-01 00:00:00</td>\n",
       "      <td>9.7</td>\n",
       "      <td>9.695124</td>\n",
       "      <td>217.9</td>\n",
       "      <td>1.239312</td>\n",
       "      <td>0.097938</td>\n",
       "      <td>0.283731</td>\n",
       "      <td>59.775758</td>\n",
       "      <td>1</td>\n",
       "      <td>NaN</td>\n",
       "    </tr>\n",
       "    <tr>\n",
       "      <th>1</th>\n",
       "      <td>2008-01-01 00:10:00</td>\n",
       "      <td>10.6</td>\n",
       "      <td>10.595612</td>\n",
       "      <td>210.1</td>\n",
       "      <td>1.239642</td>\n",
       "      <td>0.103774</td>\n",
       "      <td>0.252274</td>\n",
       "      <td>73.569697</td>\n",
       "      <td>1</td>\n",
       "      <td>NaN</td>\n",
       "    </tr>\n",
       "    <tr>\n",
       "      <th>2</th>\n",
       "      <td>2008-01-01 00:20:00</td>\n",
       "      <td>11.8</td>\n",
       "      <td>11.797270</td>\n",
       "      <td>206.2</td>\n",
       "      <td>1.240322</td>\n",
       "      <td>0.083898</td>\n",
       "      <td>0.175058</td>\n",
       "      <td>95.460606</td>\n",
       "      <td>1</td>\n",
       "      <td>NaN</td>\n",
       "    </tr>\n",
       "    <tr>\n",
       "      <th>3</th>\n",
       "      <td>2008-01-01 00:30:00</td>\n",
       "      <td>11.5</td>\n",
       "      <td>11.499414</td>\n",
       "      <td>205.6</td>\n",
       "      <td>1.240993</td>\n",
       "      <td>0.121739</td>\n",
       "      <td>0.208260</td>\n",
       "      <td>90.933333</td>\n",
       "      <td>1</td>\n",
       "      <td>NaN</td>\n",
       "    </tr>\n",
       "    <tr>\n",
       "      <th>4</th>\n",
       "      <td>2008-01-01 00:40:00</td>\n",
       "      <td>11.2</td>\n",
       "      <td>11.199954</td>\n",
       "      <td>207.8</td>\n",
       "      <td>1.241168</td>\n",
       "      <td>0.089286</td>\n",
       "      <td>0.200987</td>\n",
       "      <td>80.872727</td>\n",
       "      <td>1</td>\n",
       "      <td>NaN</td>\n",
       "    </tr>\n",
       "  </tbody>\n",
       "</table>\n",
       "</div>"
      ],
      "text/plain": [
       "                 time     V       Vadj      D       rho         I         S  \\\n",
       "0 2008-01-01 00:00:00   9.7   9.695124  217.9  1.239312  0.097938  0.283731   \n",
       "1 2008-01-01 00:10:00  10.6  10.595612  210.1  1.239642  0.103774  0.252274   \n",
       "2 2008-01-01 00:20:00  11.8  11.797270  206.2  1.240322  0.083898  0.175058   \n",
       "3 2008-01-01 00:30:00  11.5  11.499414  205.6  1.240993  0.121739  0.208260   \n",
       "4 2008-01-01 00:40:00  11.2  11.199954  207.8  1.241168  0.089286  0.200987   \n",
       "\n",
       "      normPW  WT   H  \n",
       "0  59.775758   1 NaN  \n",
       "1  73.569697   1 NaN  \n",
       "2  95.460606   1 NaN  \n",
       "3  90.933333   1 NaN  \n",
       "4  80.872727   1 NaN  "
      ]
     },
     "execution_count": 47,
     "metadata": {},
     "output_type": "execute_result"
    }
   ],
   "source": [
    "df_merged.loc[df_merged.WT == 1].head()"
   ]
  }
 ],
 "metadata": {
  "kernelspec": {
   "display_name": "Python 3 (ipykernel)",
   "language": "python",
   "name": "python3"
  },
  "language_info": {
   "codemirror_mode": {
    "name": "ipython",
    "version": 3
   },
   "file_extension": ".py",
   "mimetype": "text/x-python",
   "name": "python",
   "nbconvert_exporter": "python",
   "pygments_lexer": "ipython3",
   "version": "3.10.6"
  }
 },
 "nbformat": 4,
 "nbformat_minor": 5
}
